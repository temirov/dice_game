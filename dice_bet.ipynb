{
 "cells": [
  {
   "cell_type": "code",
   "execution_count": 1,
   "metadata": {},
   "outputs": [],
   "source": [
    "from numpy import mean, var\n",
    "import random\n",
    "from copy import deepcopy"
   ]
  },
  {
   "cell_type": "code",
   "execution_count": 2,
   "metadata": {},
   "outputs": [
    {
     "name": "stdout",
     "output_type": "stream",
     "text": [
      "3.7.4\n"
     ]
    }
   ],
   "source": [
    "import platform\n",
    "print(platform.python_version())"
   ]
  },
  {
   "cell_type": "code",
   "execution_count": 6,
   "metadata": {},
   "outputs": [],
   "source": [
    "class Drawers:\n",
    "    def __init__(self, max_bound):\n",
    "        drawers = [i for i in range(1, max_bound + 1)]\n",
    "        self._list = drawers\n",
    "    \n",
    "    def __getitem__(self, one_index):\n",
    "        zero_index = one_index - 1\n",
    "        return self._list[zero_index]\n",
    "    \n",
    "    def empty(self, one_index):\n",
    "        zero_index = one_index - 1\n",
    "        value = self._list[zero_index]\n",
    "        self._list[zero_index] = None\n",
    "        return value"
   ]
  },
  {
   "cell_type": "code",
   "execution_count": 7,
   "metadata": {},
   "outputs": [],
   "source": [
    "class Bank:\n",
    "    def __init__(self, drawers_count):\n",
    "        self.drawers = Drawers(drawers_count)\n",
    "    \n",
    "    def ispresent(self, drawer):\n",
    "        return self.drawers[drawer] is not None\n",
    "        \n",
    "    def withdraw(self, drawer):\n",
    "        return self.drawers.empty(drawer)"
   ]
  },
  {
   "cell_type": "code",
   "execution_count": 9,
   "metadata": {},
   "outputs": [],
   "source": [
    "class BaseStrategy:\n",
    "    def __init__(self, bank):\n",
    "        self.bank = deepcopy(bank)\n",
    "        self.original_bank = deepcopy(bank)\n",
    "    \n",
    "    def restart(self):\n",
    "        self.bank = deepcopy(self.original_bank)"
   ]
  },
  {
   "cell_type": "code",
   "execution_count": 11,
   "metadata": {},
   "outputs": [],
   "source": [
    "class PairsFirstStrategy:\n",
    "    def __init__(self, bank):\n",
    "        self.base_strategy = BaseStrategy(bank)\n",
    "    \n",
    "    def __getattr__(self, attr):\n",
    "        return getattr(self.base_strategy, attr)\n",
    "    \n",
    "    def execute(self, draw1, draw2):\n",
    "        draw_sum = draw1 + draw2\n",
    "        if self.bank.ispresent(draw1) and self.bank.ispresent(draw2):\n",
    "            return self.bank.withdraw(draw1) + self.bank.withdraw(draw2)\n",
    "        elif self.bank.ispresent(draw_sum):\n",
    "            return self.bank.withdraw(draw_sum)\n",
    "        else:\n",
    "            return None"
   ]
  },
  {
   "cell_type": "code",
   "execution_count": 13,
   "metadata": {},
   "outputs": [],
   "source": [
    "class PairsLastStrategy:\n",
    "    def __init__(self, bank):\n",
    "        self.base_strategy = BaseStrategy(bank)\n",
    "    \n",
    "    def __getattr__(self, attr):\n",
    "        return getattr(self.base_strategy, attr)\n",
    "    \n",
    "    def execute(self, draw1, draw2):\n",
    "        draw_sum = draw1 + draw2\n",
    "        if self.bank.ispresent(draw_sum):\n",
    "            return self.bank.withdraw(draw_sum)\n",
    "        elif self.bank.ispresent(draw1) and self.bank.ispresent(draw2):\n",
    "            return self.bank.withdraw(draw1) + self.bank.withdraw(draw2)\n",
    "        else:\n",
    "            return None"
   ]
  },
  {
   "cell_type": "code",
   "execution_count": 14,
   "metadata": {},
   "outputs": [],
   "source": [
    "class RandomDrawStrategy:\n",
    "    def __init__(self, bank):\n",
    "        self.base_strategy = BaseStrategy(bank)\n",
    "    \n",
    "    def __getattr__(self, attr):\n",
    "        return getattr(self.base_strategy, attr)\n",
    "    \n",
    "    def execute(self, draw1, draw2):\n",
    "        draw_sum = draw1 + draw2\n",
    "        if self.bank.ispresent(draw_sum) and self.bank.ispresent(draw1) and self.bank.ispresent(draw2):\n",
    "            if random.random() > 0.49:\n",
    "                return self.bank.withdraw(draw_sum)\n",
    "            else:\n",
    "                return self.bank.withdraw(draw1) + self.bank.withdraw(draw2)\n",
    "        elif self.bank.ispresent(draw_sum):\n",
    "            return self.bank.withdraw(draw_sum)\n",
    "        elif self.bank.ispresent(draw1) and self.bank.ispresent(draw2):\n",
    "            return self.bank.withdraw(draw1) + self.bank.withdraw(draw2)\n",
    "        else:\n",
    "            return None"
   ]
  },
  {
   "cell_type": "code",
   "execution_count": 16,
   "metadata": {},
   "outputs": [],
   "source": [
    "class EntangledDice:\n",
    "    def __init__(self, total):\n",
    "        self.total = total\n",
    "    \n",
    "    def roll(self):\n",
    "        results = [random.randrange(1, 7) for _ in range(self.total)]\n",
    "        if len(set(results)) == 1:\n",
    "            return self.roll()\n",
    "        else:\n",
    "            return results"
   ]
  },
  {
   "cell_type": "code",
   "execution_count": 17,
   "metadata": {},
   "outputs": [],
   "source": [
    "class Game:    \n",
    "    def __init__(self, strategy):\n",
    "        self.strategy = strategy\n",
    "        self.dice = EntangledDice(2)\n",
    "                \n",
    "    def turn(self):\n",
    "        dice1, dice2 = self.dice.roll()\n",
    "        return self.strategy.execute(dice1, dice2)\n",
    "    \n",
    "    def play(self):\n",
    "        self.strategy.restart()\n",
    "        responses = []\n",
    "        while True:\n",
    "            response = self.turn()\n",
    "            if response is None:\n",
    "                return responses\n",
    "            else:\n",
    "                responses.append(response)\n",
    "                "
   ]
  },
  {
   "cell_type": "code",
   "execution_count": 18,
   "metadata": {},
   "outputs": [],
   "source": [
    "class MonteCarlo:\n",
    "    def __init__(self, games, total_runs = 1_000):\n",
    "        self.games = games\n",
    "        self.total_runs = total_runs\n",
    "        \n",
    "    def run(self):\n",
    "        results = []\n",
    "        for game in self.games:\n",
    "            game_results = []\n",
    "            for _ in range(self.total_runs):\n",
    "                game_results.append(game.play())\n",
    "                \n",
    "            results.append(game_results)\n",
    "        return results\n"
   ]
  },
  {
   "cell_type": "code",
   "execution_count": 19,
   "metadata": {},
   "outputs": [],
   "source": [
    "bank = Bank(12)\n",
    "pairs_first_strategy = PairsFirstStrategy(bank)\n",
    "pairs_last_strategy = PairsLastStrategy(bank)\n",
    "random_draw_strategy = RandomDrawStrategy(bank)\n",
    "pairs_first_game = Game(pairs_first_strategy)\n",
    "pairs_last_game = Game(pairs_last_strategy)\n",
    "random_draw_game = Game(random_draw_strategy)\n",
    "monte_carlo = MonteCarlo([pairs_first_game, pairs_last_game, random_draw_game], 10_000)\n",
    "outputs = monte_carlo.run()"
   ]
  },
  {
   "cell_type": "code",
   "execution_count": 20,
   "metadata": {},
   "outputs": [
    {
     "data": {
      "text/plain": [
       "array([7.23810115, 6.97177179, 7.13101167])"
      ]
     },
     "execution_count": 20,
     "metadata": {},
     "output_type": "execute_result"
    }
   ],
   "source": [
    "expectations = []\n",
    "for output in outputs:\n",
    "    game_expectations = []\n",
    "    for result in output:\n",
    "        exp = mean(result)\n",
    "        game_expectations.append(exp)\n",
    "        \n",
    "    expectations.append(game_expectations)\n",
    "\n",
    "mean(expectations, axis = 1)"
   ]
  }
 ],
 "metadata": {
  "kernelspec": {
   "display_name": "Python 3",
   "language": "python",
   "name": "python3"
  },
  "language_info": {
   "codemirror_mode": {
    "name": "ipython",
    "version": 3
   },
   "file_extension": ".py",
   "mimetype": "text/x-python",
   "name": "python",
   "nbconvert_exporter": "python",
   "pygments_lexer": "ipython3",
   "version": "3.7.6"
  }
 },
 "nbformat": 4,
 "nbformat_minor": 4
}
